{
 "cells": [
  {
   "cell_type": "markdown",
   "id": "2240e497",
   "metadata": {},
   "source": [
    "# Import Libraries \n"
   ]
  },
  {
   "cell_type": "code",
   "execution_count": 2,
   "id": "c95011ae",
   "metadata": {},
   "outputs": [
    {
     "name": "stdout",
     "output_type": "stream",
     "text": [
      "Requirement already satisfied: tensorflow in c:\\users\\rajul\\anaconda3\\lib\\site-packages (2.9.1)\n",
      "Requirement already satisfied: grpcio<2.0,>=1.24.3 in c:\\users\\rajul\\anaconda3\\lib\\site-packages (from tensorflow) (1.47.0)\n",
      "Requirement already satisfied: wrapt>=1.11.0 in c:\\users\\rajul\\anaconda3\\lib\\site-packages (from tensorflow) (1.12.1)\n",
      "Requirement already satisfied: numpy>=1.20 in c:\\users\\rajul\\anaconda3\\lib\\site-packages (from tensorflow) (1.20.1)\n",
      "Requirement already satisfied: gast<=0.4.0,>=0.2.1 in c:\\users\\rajul\\anaconda3\\lib\\site-packages (from tensorflow) (0.4.0)\n",
      "Requirement already satisfied: six>=1.12.0 in c:\\users\\rajul\\anaconda3\\lib\\site-packages (from tensorflow) (1.15.0)\n",
      "Requirement already satisfied: keras-preprocessing>=1.1.1 in c:\\users\\rajul\\anaconda3\\lib\\site-packages (from tensorflow) (1.1.2)\n",
      "Requirement already satisfied: libclang>=13.0.0 in c:\\users\\rajul\\anaconda3\\lib\\site-packages (from tensorflow) (14.0.6)\n",
      "Requirement already satisfied: google-pasta>=0.1.1 in c:\\users\\rajul\\anaconda3\\lib\\site-packages (from tensorflow) (0.2.0)\n",
      "Requirement already satisfied: termcolor>=1.1.0 in c:\\users\\rajul\\anaconda3\\lib\\site-packages (from tensorflow) (1.1.0)\n",
      "Requirement already satisfied: flatbuffers<2,>=1.12 in c:\\users\\rajul\\anaconda3\\lib\\site-packages (from tensorflow) (1.12)\n",
      "Requirement already satisfied: keras<2.10.0,>=2.9.0rc0 in c:\\users\\rajul\\anaconda3\\lib\\site-packages (from tensorflow) (2.9.0)\n",
      "Requirement already satisfied: astunparse>=1.6.0 in c:\\users\\rajul\\anaconda3\\lib\\site-packages (from tensorflow) (1.6.3)\n",
      "Requirement already satisfied: packaging in c:\\users\\rajul\\anaconda3\\lib\\site-packages (from tensorflow) (20.9)\n",
      "Requirement already satisfied: opt-einsum>=2.3.2 in c:\\users\\rajul\\anaconda3\\lib\\site-packages (from tensorflow) (3.3.0)\n",
      "Requirement already satisfied: tensorboard<2.10,>=2.9 in c:\\users\\rajul\\anaconda3\\lib\\site-packages (from tensorflow) (2.9.1)\n",
      "Requirement already satisfied: typing-extensions>=3.6.6 in c:\\users\\rajul\\anaconda3\\lib\\site-packages (from tensorflow) (3.7.4.3)\n",
      "Requirement already satisfied: h5py>=2.9.0 in c:\\users\\rajul\\anaconda3\\lib\\site-packages (from tensorflow) (2.10.0)\n",
      "Requirement already satisfied: tensorflow-estimator<2.10.0,>=2.9.0rc0 in c:\\users\\rajul\\anaconda3\\lib\\site-packages (from tensorflow) (2.9.0)\n",
      "Requirement already satisfied: absl-py>=1.0.0 in c:\\users\\rajul\\anaconda3\\lib\\site-packages (from tensorflow) (1.2.0)\n",
      "Requirement already satisfied: setuptools in c:\\users\\rajul\\anaconda3\\lib\\site-packages (from tensorflow) (52.0.0.post20210125)\n",
      "Requirement already satisfied: protobuf<3.20,>=3.9.2 in c:\\users\\rajul\\anaconda3\\lib\\site-packages (from tensorflow) (3.19.4)\n",
      "Requirement already satisfied: tensorflow-io-gcs-filesystem>=0.23.1 in c:\\users\\rajul\\anaconda3\\lib\\site-packages (from tensorflow) (0.26.0)\n",
      "Requirement already satisfied: wheel<1.0,>=0.23.0 in c:\\users\\rajul\\anaconda3\\lib\\site-packages (from astunparse>=1.6.0->tensorflow) (0.36.2)\n",
      "Requirement already satisfied: requests<3,>=2.21.0 in c:\\users\\rajul\\anaconda3\\lib\\site-packages (from tensorboard<2.10,>=2.9->tensorflow) (2.25.1)\n",
      "Requirement already satisfied: tensorboard-data-server<0.7.0,>=0.6.0 in c:\\users\\rajul\\anaconda3\\lib\\site-packages (from tensorboard<2.10,>=2.9->tensorflow) (0.6.1)\n",
      "Requirement already satisfied: tensorboard-plugin-wit>=1.6.0 in c:\\users\\rajul\\anaconda3\\lib\\site-packages (from tensorboard<2.10,>=2.9->tensorflow) (1.8.1)\n",
      "Requirement already satisfied: werkzeug>=1.0.1 in c:\\users\\rajul\\anaconda3\\lib\\site-packages (from tensorboard<2.10,>=2.9->tensorflow) (1.0.1)\n",
      "Requirement already satisfied: markdown>=2.6.8 in c:\\users\\rajul\\anaconda3\\lib\\site-packages (from tensorboard<2.10,>=2.9->tensorflow) (3.4.1)\n",
      "Requirement already satisfied: google-auth<3,>=1.6.3 in c:\\users\\rajul\\anaconda3\\lib\\site-packages (from tensorboard<2.10,>=2.9->tensorflow) (2.10.0)\n",
      "Requirement already satisfied: google-auth-oauthlib<0.5,>=0.4.1 in c:\\users\\rajul\\anaconda3\\lib\\site-packages (from tensorboard<2.10,>=2.9->tensorflow) (0.4.6)\n",
      "Requirement already satisfied: cachetools<6.0,>=2.0.0 in c:\\users\\rajul\\anaconda3\\lib\\site-packages (from google-auth<3,>=1.6.3->tensorboard<2.10,>=2.9->tensorflow) (5.2.0)\n",
      "Requirement already satisfied: rsa<5,>=3.1.4 in c:\\users\\rajul\\anaconda3\\lib\\site-packages (from google-auth<3,>=1.6.3->tensorboard<2.10,>=2.9->tensorflow) (4.9)\n",
      "Requirement already satisfied: pyasn1-modules>=0.2.1 in c:\\users\\rajul\\anaconda3\\lib\\site-packages (from google-auth<3,>=1.6.3->tensorboard<2.10,>=2.9->tensorflow) (0.2.8)\n",
      "Requirement already satisfied: requests-oauthlib>=0.7.0 in c:\\users\\rajul\\anaconda3\\lib\\site-packages (from google-auth-oauthlib<0.5,>=0.4.1->tensorboard<2.10,>=2.9->tensorflow) (1.3.1)\n",
      "Requirement already satisfied: importlib-metadata>=4.4 in c:\\users\\rajul\\anaconda3\\lib\\site-packages (from markdown>=2.6.8->tensorboard<2.10,>=2.9->tensorflow) (4.12.0)\n",
      "Requirement already satisfied: zipp>=0.5 in c:\\users\\rajul\\anaconda3\\lib\\site-packages (from importlib-metadata>=4.4->markdown>=2.6.8->tensorboard<2.10,>=2.9->tensorflow) (3.4.1)\n",
      "Requirement already satisfied: pyasn1<0.5.0,>=0.4.6 in c:\\users\\rajul\\anaconda3\\lib\\site-packages (from pyasn1-modules>=0.2.1->google-auth<3,>=1.6.3->tensorboard<2.10,>=2.9->tensorflow) (0.4.8)\n",
      "Requirement already satisfied: certifi>=2017.4.17 in c:\\users\\rajul\\anaconda3\\lib\\site-packages (from requests<3,>=2.21.0->tensorboard<2.10,>=2.9->tensorflow) (2020.12.5)\n",
      "Requirement already satisfied: urllib3<1.27,>=1.21.1 in c:\\users\\rajul\\anaconda3\\lib\\site-packages (from requests<3,>=2.21.0->tensorboard<2.10,>=2.9->tensorflow) (1.26.4)\n",
      "Requirement already satisfied: idna<3,>=2.5 in c:\\users\\rajul\\anaconda3\\lib\\site-packages (from requests<3,>=2.21.0->tensorboard<2.10,>=2.9->tensorflow) (2.10)\n",
      "Requirement already satisfied: chardet<5,>=3.0.2 in c:\\users\\rajul\\anaconda3\\lib\\site-packages (from requests<3,>=2.21.0->tensorboard<2.10,>=2.9->tensorflow) (4.0.0)\n",
      "Requirement already satisfied: oauthlib>=3.0.0 in c:\\users\\rajul\\anaconda3\\lib\\site-packages (from requests-oauthlib>=0.7.0->google-auth-oauthlib<0.5,>=0.4.1->tensorboard<2.10,>=2.9->tensorflow) (3.2.0)\n",
      "Requirement already satisfied: pyparsing>=2.0.2 in c:\\users\\rajul\\anaconda3\\lib\\site-packages (from packaging->tensorflow) (2.4.7)\n"
     ]
    }
   ],
   "source": [
    "!pip install tensorflow"
   ]
  },
  {
   "cell_type": "code",
   "execution_count": 3,
   "id": "45d8bf87",
   "metadata": {},
   "outputs": [],
   "source": [
    "import pandas as pd\n",
    "import numpy as np\n",
    "import seaborn as sns\n",
    "import matplotlib.pyplot as plt\n",
    "import math\n",
    "from sklearn.preprocessing import MinMaxScaler\n",
    "from keras.models import Sequential\n",
    "from keras.layers import Dense,LSTM\n",
    "plt.style.use('fivethirtyeight')"
   ]
  },
  {
   "cell_type": "code",
   "execution_count": 4,
   "id": "d1362edd",
   "metadata": {},
   "outputs": [
    {
     "data": {
      "text/html": [
       "<div>\n",
       "<style scoped>\n",
       "    .dataframe tbody tr th:only-of-type {\n",
       "        vertical-align: middle;\n",
       "    }\n",
       "\n",
       "    .dataframe tbody tr th {\n",
       "        vertical-align: top;\n",
       "    }\n",
       "\n",
       "    .dataframe thead th {\n",
       "        text-align: right;\n",
       "    }\n",
       "</style>\n",
       "<table border=\"1\" class=\"dataframe\">\n",
       "  <thead>\n",
       "    <tr style=\"text-align: right;\">\n",
       "      <th></th>\n",
       "      <th>Open</th>\n",
       "      <th>High</th>\n",
       "      <th>Low</th>\n",
       "      <th>Close</th>\n",
       "      <th>Adj Close</th>\n",
       "      <th>Volume</th>\n",
       "    </tr>\n",
       "    <tr>\n",
       "      <th>Date</th>\n",
       "      <th></th>\n",
       "      <th></th>\n",
       "      <th></th>\n",
       "      <th></th>\n",
       "      <th></th>\n",
       "      <th></th>\n",
       "    </tr>\n",
       "  </thead>\n",
       "  <tbody>\n",
       "    <tr>\n",
       "      <th>2018-02-05</th>\n",
       "      <td>262.000000</td>\n",
       "      <td>267.899994</td>\n",
       "      <td>250.029999</td>\n",
       "      <td>254.259995</td>\n",
       "      <td>254.259995</td>\n",
       "      <td>11896100</td>\n",
       "    </tr>\n",
       "    <tr>\n",
       "      <th>2018-02-06</th>\n",
       "      <td>247.699997</td>\n",
       "      <td>266.700012</td>\n",
       "      <td>245.000000</td>\n",
       "      <td>265.720001</td>\n",
       "      <td>265.720001</td>\n",
       "      <td>12595800</td>\n",
       "    </tr>\n",
       "    <tr>\n",
       "      <th>2018-02-07</th>\n",
       "      <td>266.579987</td>\n",
       "      <td>272.450012</td>\n",
       "      <td>264.329987</td>\n",
       "      <td>264.559998</td>\n",
       "      <td>264.559998</td>\n",
       "      <td>8981500</td>\n",
       "    </tr>\n",
       "    <tr>\n",
       "      <th>2018-02-08</th>\n",
       "      <td>267.079987</td>\n",
       "      <td>267.619995</td>\n",
       "      <td>250.000000</td>\n",
       "      <td>250.100006</td>\n",
       "      <td>250.100006</td>\n",
       "      <td>9306700</td>\n",
       "    </tr>\n",
       "    <tr>\n",
       "      <th>2018-02-09</th>\n",
       "      <td>253.850006</td>\n",
       "      <td>255.800003</td>\n",
       "      <td>236.110001</td>\n",
       "      <td>249.470001</td>\n",
       "      <td>249.470001</td>\n",
       "      <td>16906900</td>\n",
       "    </tr>\n",
       "  </tbody>\n",
       "</table>\n",
       "</div>"
      ],
      "text/plain": [
       "                  Open        High         Low       Close   Adj Close  \\\n",
       "Date                                                                     \n",
       "2018-02-05  262.000000  267.899994  250.029999  254.259995  254.259995   \n",
       "2018-02-06  247.699997  266.700012  245.000000  265.720001  265.720001   \n",
       "2018-02-07  266.579987  272.450012  264.329987  264.559998  264.559998   \n",
       "2018-02-08  267.079987  267.619995  250.000000  250.100006  250.100006   \n",
       "2018-02-09  253.850006  255.800003  236.110001  249.470001  249.470001   \n",
       "\n",
       "              Volume  \n",
       "Date                  \n",
       "2018-02-05  11896100  \n",
       "2018-02-06  12595800  \n",
       "2018-02-07   8981500  \n",
       "2018-02-08   9306700  \n",
       "2018-02-09  16906900  "
      ]
     },
     "execution_count": 4,
     "metadata": {},
     "output_type": "execute_result"
    }
   ],
   "source": [
    "df=pd.read_excel('1613615-Stock_Price_data_set.xlsx',index_col='Date')\n",
    "df.head()"
   ]
  },
  {
   "cell_type": "code",
   "execution_count": 5,
   "id": "82456953",
   "metadata": {},
   "outputs": [
    {
     "data": {
      "text/plain": [
       "(1009, 6)"
      ]
     },
     "execution_count": 5,
     "metadata": {},
     "output_type": "execute_result"
    }
   ],
   "source": [
    "#Get number of rows and columns in data set\n",
    "df.shape"
   ]
  },
  {
   "cell_type": "code",
   "execution_count": 6,
   "id": "7ce81b3e",
   "metadata": {},
   "outputs": [
    {
     "data": {
      "image/png": "[encoded data removed]",
      "text/plain": [
       "<Figure size 1152x576 with 1 Axes>"
      ]
     },
     "metadata": {},
     "output_type": "display_data"
    }
   ],
   "source": [
    "#visualization of the closing histry\n",
    "plt.figure(figsize=(16,8))\n",
    "plt.title('Close price history')\n",
    "plt.plot(df['Close'])\n",
    "plt.xlabel('date',fontsize=18)\n",
    "plt.ylabel('close price ')\n",
    "plt.show()"
   ]
  },
  {
   "cell_type": "code",
   "execution_count": 7,
   "id": "e4fc5648",
   "metadata": {},
   "outputs": [
    {
     "data": {
      "text/plain": [
       "808"
      ]
     },
     "execution_count": 7,
     "metadata": {},
     "output_type": "execute_result"
    }
   ],
   "source": [
    "#create a new dataframe with only the close column\n",
    "data=df.filter(['Close'])\n",
    "#convert the dataframe into numpy arry\n",
    "dataset=data.values\n",
    "#get the number of rows to train the model\n",
    "training_data_len=math.ceil(len(dataset)*0.8)\n",
    "training_data_len\n",
    "training_data_len"
   ]
  },
  {
   "cell_type": "code",
   "execution_count": 8,
   "id": "fb48f80f",
   "metadata": {},
   "outputs": [
    {
     "data": {
      "text/plain": [
       "array([[0.04451626],\n",
       "       [0.06954849],\n",
       "       [0.06701469],\n",
       "       ...,\n",
       "       [0.4272515 ],\n",
       "       [0.37509011],\n",
       "       [0.38507243]])"
      ]
     },
     "execution_count": 8,
     "metadata": {},
     "output_type": "execute_result"
    }
   ],
   "source": [
    "#scale the data\n",
    "scaler=MinMaxScaler(feature_range=(0,1))\n",
    "scaled_data=scaler.fit_transform(dataset)\n",
    "scaled_data"
   ]
  },
  {
   "cell_type": "code",
   "execution_count": 9,
   "id": "9306f245",
   "metadata": {},
   "outputs": [
    {
     "name": "stdout",
     "output_type": "stream",
     "text": [
      "[array([0.04451626, 0.06954849, 0.06701469, 0.03542955, 0.03405342,\n",
      "       0.05257641, 0.05327534, 0.0701601 , 0.10133021, 0.09750767,\n",
      "       0.09757319, 0.10301218, 0.09667768, 0.11369343, 0.13167034,\n",
      "       0.12391599, 0.12559796, 0.12343551, 0.14672022, 0.1771914 ,\n",
      "       0.19951508, 0.19064677, 0.18156003, 0.2131015 , 0.19095254,\n",
      "       0.17911361, 0.19149862, 0.19049385, 0.18472731, 0.17387127,\n",
      "       0.18265218, 0.18042421, 0.15906164, 0.14647998, 0.18887749,\n",
      "       0.1459339 , 0.11334393, 0.13426968, 0.10137394, 0.10875693,\n",
      "       0.12026823, 0.13125532, 0.12007165, 0.12243068, 0.14021101,\n",
      "       0.15244317, 0.16463161, 0.16987394, 0.16142066, 0.22319301,\n",
      "       0.21982915, 0.21585376, 0.20508505, 0.18525152, 0.15976057,\n",
      "       0.15700838, 0.17496343, 0.17011425, 0.17164323, 0.17347804])]\n",
      "[0.17360909661393864]\n",
      "\n",
      "[array([0.04451626, 0.06954849, 0.06701469, 0.03542955, 0.03405342,\n",
      "       0.05257641, 0.05327534, 0.0701601 , 0.10133021, 0.09750767,\n",
      "       0.09757319, 0.10301218, 0.09667768, 0.11369343, 0.13167034,\n",
      "       0.12391599, 0.12559796, 0.12343551, 0.14672022, 0.1771914 ,\n",
      "       0.19951508, 0.19064677, 0.18156003, 0.2131015 , 0.19095254,\n",
      "       0.17911361, 0.19149862, 0.19049385, 0.18472731, 0.17387127,\n",
      "       0.18265218, 0.18042421, 0.15906164, 0.14647998, 0.18887749,\n",
      "       0.1459339 , 0.11334393, 0.13426968, 0.10137394, 0.10875693,\n",
      "       0.12026823, 0.13125532, 0.12007165, 0.12243068, 0.14021101,\n",
      "       0.15244317, 0.16463161, 0.16987394, 0.16142066, 0.22319301,\n",
      "       0.21982915, 0.21585376, 0.20508505, 0.18525152, 0.15976057,\n",
      "       0.15700838, 0.17496343, 0.17011425, 0.17164323, 0.17347804]), array([0.06954849, 0.06701469, 0.03542955, 0.03405342, 0.05257641,\n",
      "       0.05327534, 0.0701601 , 0.10133021, 0.09750767, 0.09757319,\n",
      "       0.10301218, 0.09667768, 0.11369343, 0.13167034, 0.12391599,\n",
      "       0.12559796, 0.12343551, 0.14672022, 0.1771914 , 0.19951508,\n",
      "       0.19064677, 0.18156003, 0.2131015 , 0.19095254, 0.17911361,\n",
      "       0.19149862, 0.19049385, 0.18472731, 0.17387127, 0.18265218,\n",
      "       0.18042421, 0.15906164, 0.14647998, 0.18887749, 0.1459339 ,\n",
      "       0.11334393, 0.13426968, 0.10137394, 0.10875693, 0.12026823,\n",
      "       0.13125532, 0.12007165, 0.12243068, 0.14021101, 0.15244317,\n",
      "       0.16463161, 0.16987394, 0.16142066, 0.22319301, 0.21982915,\n",
      "       0.21585376, 0.20508505, 0.18525152, 0.15976057, 0.15700838,\n",
      "       0.17496343, 0.17011425, 0.17164323, 0.17347804, 0.1736091 ])]\n",
      "[0.17360909661393864, 0.16996133223364263]\n",
      "\n"
     ]
    }
   ],
   "source": [
    "#create the training data set\n",
    "#create the scaled training data set\n",
    "train_data=scaled_data[0:training_data_len,:]\n",
    "#split the data into x_train and y_train data sets\n",
    "x_train=[]\n",
    "y_train=[]\n",
    "\n",
    "for i in range (60,len(train_data)):\n",
    "    x_train.append(train_data[i-60:i,0])\n",
    "    y_train.append(train_data[i,0])\n",
    "    if i<=61:\n",
    "        print(x_train)\n",
    "        print(y_train)\n",
    "        print()"
   ]
  },
  {
   "cell_type": "code",
   "execution_count": 10,
   "id": "a7f81f68",
   "metadata": {},
   "outputs": [],
   "source": [
    "#convert the x_train and y_train to numpy arrays\n",
    "x_train,y_train=np.array(x_train),np.array(y_train)"
   ]
  },
  {
   "cell_type": "code",
   "execution_count": 11,
   "id": "442082f7",
   "metadata": {},
   "outputs": [
    {
     "data": {
      "text/plain": [
       "(748, 60, 1)"
      ]
     },
     "execution_count": 11,
     "metadata": {},
     "output_type": "execute_result"
    }
   ],
   "source": [
    "#reshape the data\n",
    "x_train=np.reshape(x_train,(x_train.shape[0],x_train.shape[1],1))\n",
    "x_train.shape"
   ]
  },
  {
   "cell_type": "code",
   "execution_count": 12,
   "id": "d6a7f601",
   "metadata": {},
   "outputs": [],
   "source": [
    "#build the LSTM model\n",
    "model=Sequential()\n",
    "model.add(LSTM(50,return_sequences=True,input_shape=(x_train.shape[1],1)))\n",
    "model.add(LSTM(50,return_sequences=False))\n",
    "model.add(Dense(25))\n",
    "model.add(Dense(1))"
   ]
  },
  {
   "cell_type": "code",
   "execution_count": 13,
   "id": "6806c309",
   "metadata": {},
   "outputs": [],
   "source": [
    "#compile the model\n",
    "model.compile(optimizer='adam',loss='mean_squared_error')"
   ]
  },
  {
   "cell_type": "code",
   "execution_count": 14,
   "id": "8d7dc85c",
   "metadata": {},
   "outputs": [
    {
     "name": "stdout",
     "output_type": "stream",
     "text": [
      "748/748 [==============================] - 14s 16ms/step - loss: 0.0027\n"
     ]
    },
    {
     "data": {
      "text/plain": [
       "<keras.callbacks.History at 0x219e9e03cd0>"
      ]
     },
     "execution_count": 14,
     "metadata": {},
     "output_type": "execute_result"
    }
   ],
   "source": [
    "#train the model\n",
    "model.fit(x_train,y_train,batch_size=1,epochs=1)"
   ]
  },
  {
   "cell_type": "code",
   "execution_count": 15,
   "id": "77e4d124",
   "metadata": {},
   "outputs": [],
   "source": [
    "#create the testiong data set\n",
    "#create the new arry containing scaled values from index \n",
    "test_data=scaled_data[training_data_len-60:,:]\n",
    "#create the data set x_test and y_test\n",
    "x_test=[]\n",
    "y_test=dataset[training_data_len:, :]\n",
    "for i in range (60,len(test_data)):\n",
    "    x_test.append(test_data[i-60:i,0])"
   ]
  },
  {
   "cell_type": "code",
   "execution_count": 16,
   "id": "e1ce8894",
   "metadata": {},
   "outputs": [],
   "source": [
    "#convert data into numpy\n",
    "x_test=np.array(x_test)"
   ]
  },
  {
   "cell_type": "code",
   "execution_count": 17,
   "id": "44701a1d",
   "metadata": {},
   "outputs": [],
   "source": [
    "#reshape the data\n",
    "x_test=np.reshape(x_test,(x_test.shape[0],x_test.shape[1],1))"
   ]
  },
  {
   "cell_type": "code",
   "execution_count": 18,
   "id": "f6cd6217",
   "metadata": {},
   "outputs": [
    {
     "name": "stdout",
     "output_type": "stream",
     "text": [
      "7/7 [==============================] - 1s 14ms/step\n"
     ]
    },
    {
     "data": {
      "text/plain": [
       "array([[529.9705 ],\n",
       "       [524.17993],\n",
       "       [518.11597],\n",
       "       [513.25854],\n",
       "       [508.93347],\n",
       "       [505.5336 ],\n",
       "       [503.24182],\n",
       "       [502.22678],\n",
       "       [501.35025],\n",
       "       [499.9702 ],\n",
       "       [497.72778],\n",
       "       [495.8167 ],\n",
       "       [494.7447 ],\n",
       "       [492.11826],\n",
       "       [490.22192],\n",
       "       [487.60992],\n",
       "       [485.25827],\n",
       "       [484.06573],\n",
       "       [482.95914],\n",
       "       [481.73898],\n",
       "       [480.78763],\n",
       "       [481.68747],\n",
       "       [482.7566 ],\n",
       "       [484.38593],\n",
       "       [485.83774],\n",
       "       [487.1578 ],\n",
       "       [488.41827],\n",
       "       [489.35855],\n",
       "       [489.60736],\n",
       "       [489.56012],\n",
       "       [488.22913],\n",
       "       [487.1815 ],\n",
       "       [486.33478],\n",
       "       [485.42007],\n",
       "       [483.83292],\n",
       "       [482.35535],\n",
       "       [481.26718],\n",
       "       [481.7799 ],\n",
       "       [481.9331 ],\n",
       "       [482.0289 ],\n",
       "       [482.77225],\n",
       "       [483.95523],\n",
       "       [484.73206],\n",
       "       [486.64743],\n",
       "       [489.21094],\n",
       "       [492.35516],\n",
       "       [496.39957],\n",
       "       [500.98956],\n",
       "       [505.27625],\n",
       "       [508.2793 ],\n",
       "       [511.0192 ],\n",
       "       [513.3178 ],\n",
       "       [516.0528 ],\n",
       "       [517.923  ],\n",
       "       [518.63043],\n",
       "       [519.407  ],\n",
       "       [520.2418 ],\n",
       "       [521.4054 ],\n",
       "       [523.41943],\n",
       "       [524.92395],\n",
       "       [524.5814 ],\n",
       "       [523.8129 ],\n",
       "       [522.787  ],\n",
       "       [519.7329 ],\n",
       "       [516.0904 ],\n",
       "       [513.07007],\n",
       "       [510.79526],\n",
       "       [509.41425],\n",
       "       [508.63022],\n",
       "       [507.61026],\n",
       "       [507.03918],\n",
       "       [506.41663],\n",
       "       [505.35132],\n",
       "       [505.0152 ],\n",
       "       [505.87296],\n",
       "       [506.58408],\n",
       "       [507.10886],\n",
       "       [506.9953 ],\n",
       "       [506.23175],\n",
       "       [505.09323],\n",
       "       [504.54672],\n",
       "       [504.52158],\n",
       "       [504.83493],\n",
       "       [505.60266],\n",
       "       [509.03336],\n",
       "       [513.4294 ],\n",
       "       [518.46313],\n",
       "       [523.1155 ],\n",
       "       [526.3345 ],\n",
       "       [528.8734 ],\n",
       "       [531.81866],\n",
       "       [535.37164],\n",
       "       [539.06213],\n",
       "       [543.8766 ],\n",
       "       [549.2545 ],\n",
       "       [554.4063 ],\n",
       "       [560.7425 ],\n",
       "       [566.58246],\n",
       "       [570.4922 ],\n",
       "       [573.31537],\n",
       "       [574.18787],\n",
       "       [572.84686],\n",
       "       [571.45154],\n",
       "       [570.59845],\n",
       "       [570.4174 ],\n",
       "       [568.89075],\n",
       "       [566.8568 ],\n",
       "       [566.96423],\n",
       "       [568.1366 ],\n",
       "       [569.5219 ],\n",
       "       [570.87634],\n",
       "       [571.00134],\n",
       "       [572.47845],\n",
       "       [575.5441 ],\n",
       "       [579.15076],\n",
       "       [581.3546 ],\n",
       "       [586.53503],\n",
       "       [592.52594],\n",
       "       [597.2241 ],\n",
       "       [600.95624],\n",
       "       [603.11896],\n",
       "       [604.1527 ],\n",
       "       [605.1758 ],\n",
       "       [606.5054 ],\n",
       "       [607.11554],\n",
       "       [608.5794 ],\n",
       "       [610.24884],\n",
       "       [610.15063],\n",
       "       [612.827  ],\n",
       "       [617.4211 ],\n",
       "       [622.9739 ],\n",
       "       [627.7921 ],\n",
       "       [631.06274],\n",
       "       [634.6578 ],\n",
       "       [639.7407 ],\n",
       "       [643.53015],\n",
       "       [646.0155 ],\n",
       "       [648.9423 ],\n",
       "       [649.1797 ],\n",
       "       [645.8189 ],\n",
       "       [642.32886],\n",
       "       [639.6861 ],\n",
       "       [636.61914],\n",
       "       [635.17096],\n",
       "       [637.4615 ],\n",
       "       [640.3715 ],\n",
       "       [644.2082 ],\n",
       "       [648.35596],\n",
       "       [650.8962 ],\n",
       "       [652.1695 ],\n",
       "       [650.43225],\n",
       "       [647.2755 ],\n",
       "       [644.4707 ],\n",
       "       [642.9949 ],\n",
       "       [641.9776 ],\n",
       "       [638.70337],\n",
       "       [632.27966],\n",
       "       [625.4377 ],\n",
       "       [617.5457 ],\n",
       "       [611.6107 ],\n",
       "       [608.657  ],\n",
       "       [607.51465],\n",
       "       [605.2355 ],\n",
       "       [603.0146 ],\n",
       "       [600.20667],\n",
       "       [596.7704 ],\n",
       "       [594.3783 ],\n",
       "       [590.96686],\n",
       "       [587.1643 ],\n",
       "       [584.5178 ],\n",
       "       [583.9388 ],\n",
       "       [585.31396],\n",
       "       [587.24384],\n",
       "       [589.05035],\n",
       "       [590.2823 ],\n",
       "       [591.0988 ],\n",
       "       [591.80316],\n",
       "       [591.19147],\n",
       "       [589.5812 ],\n",
       "       [587.0392 ],\n",
       "       [581.65247],\n",
       "       [574.2478 ],\n",
       "       [565.54535],\n",
       "       [557.30444],\n",
       "       [550.38715],\n",
       "       [544.4525 ],\n",
       "       [537.56866],\n",
       "       [532.0241 ],\n",
       "       [525.89355],\n",
       "       [520.96027],\n",
       "       [516.1804 ],\n",
       "       [499.07397],\n",
       "       [478.194  ],\n",
       "       [455.62057],\n",
       "       [434.22916],\n",
       "       [418.9523 ],\n",
       "       [407.81348],\n",
       "       [404.77646],\n",
       "       [409.04483],\n",
       "       [412.81284],\n",
       "       [413.22714]], dtype=float32)"
      ]
     },
     "execution_count": 18,
     "metadata": {},
     "output_type": "execute_result"
    }
   ],
   "source": [
    "#get the model predicted values\n",
    "predictions=model.predict(x_test)\n",
    "predictions=scaler.inverse_transform(predictions)\n",
    "predictions"
   ]
  },
  {
   "cell_type": "code",
   "execution_count": 19,
   "id": "dce3f7e1",
   "metadata": {},
   "outputs": [
    {
     "data": {
      "text/plain": [
       "12.197624722102377"
      ]
     },
     "execution_count": 19,
     "metadata": {},
     "output_type": "execute_result"
    }
   ],
   "source": [
    "# get the root mean squared error(RMSE)\n",
    "rmse=np.sqrt(np.mean(predictions-y_test)**2)\n",
    "rmse"
   ]
  },
  {
   "cell_type": "code",
   "execution_count": 20,
   "id": "3283f094",
   "metadata": {},
   "outputs": [
    {
     "name": "stderr",
     "output_type": "stream",
     "text": [
      "<ipython-input-20-e4f1dab35300>:4: SettingWithCopyWarning: \n",
      "A value is trying to be set on a copy of a slice from a DataFrame.\n",
      "Try using .loc[row_indexer,col_indexer] = value instead\n",
      "\n",
      "See the caveats in the documentation: https://pandas.pydata.org/pandas-docs/stable/user_guide/indexing.html#returning-a-view-versus-a-copy\n",
      "  valid['predictions']=predictions\n"
     ]
    },
    {
     "data": {
      "image/png": "[encoded data removed]",
      "text/plain": [
       "<Figure size 1152x576 with 1 Axes>"
      ]
     },
     "metadata": {},
     "output_type": "display_data"
    }
   ],
   "source": [
    "#plot the data\n",
    "train=data[:training_data_len]\n",
    "valid=data[training_data_len:]\n",
    "valid['predictions']=predictions\n",
    "#visualization of data\n",
    "plt.figure(figsize=(16,8))\n",
    "plt.title('Model')\n",
    "plt.xlabel('date',fontsize=18)\n",
    "plt.ylabel('close price',fontsize=18)\n",
    "plt.plot(train['Close'])\n",
    "plt.plot(valid[['Close','predictions']])\n",
    "plt.legend(['train','val','prediction'],loc='lower right')\n",
    "plt.show()"
   ]
  },
  {
   "cell_type": "code",
   "execution_count": 21,
   "id": "efdcd949",
   "metadata": {},
   "outputs": [
    {
     "data": {
      "text/html": [
       "<div>\n",
       "<style scoped>\n",
       "    .dataframe tbody tr th:only-of-type {\n",
       "        vertical-align: middle;\n",
       "    }\n",
       "\n",
       "    .dataframe tbody tr th {\n",
       "        vertical-align: top;\n",
       "    }\n",
       "\n",
       "    .dataframe thead th {\n",
       "        text-align: right;\n",
       "    }\n",
       "</style>\n",
       "<table border=\"1\" class=\"dataframe\">\n",
       "  <thead>\n",
       "    <tr style=\"text-align: right;\">\n",
       "      <th></th>\n",
       "      <th>Close</th>\n",
       "      <th>predictions</th>\n",
       "    </tr>\n",
       "    <tr>\n",
       "      <th>Date</th>\n",
       "      <th></th>\n",
       "      <th></th>\n",
       "    </tr>\n",
       "  </thead>\n",
       "  <tbody>\n",
       "    <tr>\n",
       "      <th>2021-04-22</th>\n",
       "      <td>508.779999</td>\n",
       "      <td>529.970520</td>\n",
       "    </tr>\n",
       "    <tr>\n",
       "      <th>2021-04-23</th>\n",
       "      <td>505.549988</td>\n",
       "      <td>524.179932</td>\n",
       "    </tr>\n",
       "    <tr>\n",
       "      <th>2021-04-26</th>\n",
       "      <td>510.299988</td>\n",
       "      <td>518.115967</td>\n",
       "    </tr>\n",
       "    <tr>\n",
       "      <th>2021-04-27</th>\n",
       "      <td>505.549988</td>\n",
       "      <td>513.258545</td>\n",
       "    </tr>\n",
       "    <tr>\n",
       "      <th>2021-04-28</th>\n",
       "      <td>506.519989</td>\n",
       "      <td>508.933472</td>\n",
       "    </tr>\n",
       "    <tr>\n",
       "      <th>...</th>\n",
       "      <td>...</td>\n",
       "      <td>...</td>\n",
       "    </tr>\n",
       "    <tr>\n",
       "      <th>2022-01-31</th>\n",
       "      <td>427.140015</td>\n",
       "      <td>407.813477</td>\n",
       "    </tr>\n",
       "    <tr>\n",
       "      <th>2022-02-01</th>\n",
       "      <td>457.130005</td>\n",
       "      <td>404.776459</td>\n",
       "    </tr>\n",
       "    <tr>\n",
       "      <th>2022-02-02</th>\n",
       "      <td>429.480011</td>\n",
       "      <td>409.044830</td>\n",
       "    </tr>\n",
       "    <tr>\n",
       "      <th>2022-02-03</th>\n",
       "      <td>405.600006</td>\n",
       "      <td>412.812836</td>\n",
       "    </tr>\n",
       "    <tr>\n",
       "      <th>2022-02-04</th>\n",
       "      <td>410.170013</td>\n",
       "      <td>413.227142</td>\n",
       "    </tr>\n",
       "  </tbody>\n",
       "</table>\n",
       "<p>201 rows × 2 columns</p>\n",
       "</div>"
      ],
      "text/plain": [
       "                 Close  predictions\n",
       "Date                               \n",
       "2021-04-22  508.779999   529.970520\n",
       "2021-04-23  505.549988   524.179932\n",
       "2021-04-26  510.299988   518.115967\n",
       "2021-04-27  505.549988   513.258545\n",
       "2021-04-28  506.519989   508.933472\n",
       "...                ...          ...\n",
       "2022-01-31  427.140015   407.813477\n",
       "2022-02-01  457.130005   404.776459\n",
       "2022-02-02  429.480011   409.044830\n",
       "2022-02-03  405.600006   412.812836\n",
       "2022-02-04  410.170013   413.227142\n",
       "\n",
       "[201 rows x 2 columns]"
      ]
     },
     "execution_count": 21,
     "metadata": {},
     "output_type": "execute_result"
    }
   ],
   "source": [
    "# show the valid and actual prices\n",
    "valid"
   ]
  },
  {
   "cell_type": "code",
   "execution_count": null,
   "id": "bff920fa",
   "metadata": {},
   "outputs": [],
   "source": []
  }
 ],
 "metadata": {
  "kernelspec": {
   "display_name": "Python 3",
   "language": "python",
   "name": "python3"
  },
  "language_info": {
   "codemirror_mode": {
    "name": "ipython",
    "version": 3
   },
   "file_extension": ".py",
   "mimetype": "text/x-python",
   "name": "python",
   "nbconvert_exporter": "python",
   "pygments_lexer": "ipython3",
   "version": "3.8.8"
  }
 },
 "nbformat": 4,
 "nbformat_minor": 5
}
